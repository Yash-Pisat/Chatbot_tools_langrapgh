{
 "cells": [
  {
   "cell_type": "code",
   "execution_count": 1,
   "id": "70cb88e1",
   "metadata": {},
   "outputs": [],
   "source": [
    "## Tools\n",
    "\n",
    "from langchain_community.tools import ArxivQueryRun, WikipediaQueryRun\n",
    "from langchain_community.utilities import WikipediaAPIWrapper, ArxivAPIWrapper"
   ]
  },
  {
   "cell_type": "code",
   "execution_count": 2,
   "id": "9c428c85",
   "metadata": {},
   "outputs": [
    {
     "name": "stdout",
     "output_type": "stream",
     "text": [
      "arxiv\n"
     ]
    }
   ],
   "source": [
    "api_wrapper_arxiv = ArxivAPIWrapper(top_k_results=2, doc_content_chars_max=500)\n",
    "arxiv = ArxivQueryRun(api_wrapper=api_wrapper_arxiv, description=\"Query Arxiv for research papers.\")\n",
    "print(arxiv.name)"
   ]
  },
  {
   "cell_type": "code",
   "execution_count": 3,
   "id": "c3c381c6",
   "metadata": {},
   "outputs": [
    {
     "data": {
      "text/plain": [
       "'Published: 2018-07-02\\nTitle: The Matrix Calculus You Need For Deep Learning\\nAuthors: Terence Parr, Jeremy Howard\\nSummary: This paper is an attempt to explain all the matrix calculus you need in order\\nto understand the training of deep neural networks. We assume no math knowledge\\nbeyond what you learned in calculus 1, and provide links to help you refresh\\nthe necessary math where needed. Note that you do not need to understand this\\nmaterial before you start learning to train and use deep learning'"
      ]
     },
     "execution_count": 3,
     "metadata": {},
     "output_type": "execute_result"
    }
   ],
   "source": [
    "arxiv.invoke(\"Explain the paper 'Attention is all you need' in detail\")"
   ]
  },
  {
   "cell_type": "code",
   "execution_count": 6,
   "id": "a7a0fa57",
   "metadata": {},
   "outputs": [
    {
     "data": {
      "text/plain": [
       "'wikipedia'"
      ]
     },
     "execution_count": 6,
     "metadata": {},
     "output_type": "execute_result"
    }
   ],
   "source": [
    "api_wrapper_wiki = WikipediaAPIWrapper(top_k_results=1, doc_content_chars_max=500)\n",
    "wiki = WikipediaQueryRun(api_wrapper=api_wrapper_wiki)\n",
    "wiki.name"
   ]
  },
  {
   "cell_type": "code",
   "execution_count": 7,
   "id": "03f2531f",
   "metadata": {},
   "outputs": [
    {
     "data": {
      "text/plain": [
       "'Page: Transformer (deep learning architecture)\\nSummary: The transformer is a deep learning architecture that was developed by researchers at Google and is based on the multi-head attention mechanism, which was proposed in the 2017 paper \"Attention Is All You Need\". Text is converted to numerical representations called tokens, and each token is converted into a vector via lookup from a word embedding table. At each layer, each token is then contextualized within the scope of the context window wi'"
      ]
     },
     "execution_count": 7,
     "metadata": {},
     "output_type": "execute_result"
    }
   ],
   "source": [
    "wiki.invoke(\"Explain the paper 'Attention is all you need' in detail\")"
   ]
  },
  {
   "cell_type": "code",
   "execution_count": 8,
   "id": "6a9e030c",
   "metadata": {},
   "outputs": [],
   "source": [
    "from dotenv import load_dotenv\n",
    "load_dotenv()\n",
    "\n",
    "import os\n",
    "os.environ[\"TAVILY_API_KEY\"] = os.getenv(\"TAVILY_API_KEY\")\n",
    "os.environ[\"GROQ_API_KEY\"] = os.getenv(\"GROQ_API_KEY\")"
   ]
  },
  {
   "cell_type": "code",
   "execution_count": 9,
   "id": "eba55565",
   "metadata": {},
   "outputs": [],
   "source": [
    "### Tavily Search Tool\n",
    "from langchain_community.tools.tavily_search import TavilySearchResults\n",
    "\n",
    "tavily = TavilySearchResults()"
   ]
  },
  {
   "cell_type": "code",
   "execution_count": 26,
   "id": "a0f8bff2",
   "metadata": {},
   "outputs": [
    {
     "data": {
      "text/plain": [
       "[{'title': 'Pahalgam wraps Kashmir in pall of gloom - Frontline - The Hindu',\n",
       "  'url': 'https://frontline.thehindu.com/the-nation/pahalgam-terror-attack-kashmir-tourism-crisis-baisaran-massacre-security-lapse/article69486148.ece',\n",
       "  'content': '“Kashmiris do not condone attacks on tourists, pilgrims, and civilians. What happened in Pahalgam is a massacre. Such acts also adversely impact the region’s economy,” said Bhasin, who is currently based in the US. [...] Similarly, People’s Conference leader Sajad Lone said in a conversation with Frontline that what happened in Pahalgam was an assault on the region’s centuries-old culture of hospitality. [...] Chairs and tables are scattered at the site of a terror attack on tourists in Baisaran Valley near Pahalgam in south Kashmir’s Anantnag district on April 24, 2025.\\n                                          | Photo Credit: ADNAN ABIDI/REUTERS',\n",
       "  'score': 0.81489426},\n",
       " {'title': 'Pahalgam attack: Militants kill at least 26 tourists in Kashmir - AP News',\n",
       "  'url': 'https://apnews.com/article/kashmir-tourist-attack-dc7067a18899d9e7ff7726d4e05982c3',\n",
       "  'content': 'An Indian police officer stops a tourist vehicle near Pahalgam in south Kashmir after assailants indiscriminately opened fired at tourists visiting Pahalgam, Indian controlled Kashmir, Tuesday, April 22, 2025.(AP Photo/Dar Yasin)\\n\\nIndian police officers stands guard at a check point near Pahalgam in south Kashmir after assailants indiscriminately opened fired at tourists visiting Pahalgam, Indian controlled Kashmir, Tuesday, April 22, 2025.(AP Photo/Dar Yasin) [...] An Indian tourist, right, with blood-soaked trousers speaks on the phone as she arrives at a hospital in Anantnag after assailants indiscriminately fired at tourists visiting Pahalgam, Indian controlled Kashmir, Tuesday, April 22, 2025.(AP Photo/Dar Yasin)\\n\\nIndian security officers stand guard near Pahalgam in south Kashmir after assailants indiscriminately opened fired at tourists in Pahalgam, Indian controlled Kashmir, Tuesday, April 22, 2025. (AP Photo/Dar Yasin) [...] Paramedic carry a wounded tourist on a stretcher at a hospital in Anantnag after assailants indiscriminately fired at tourists visiting Pahalgam, Indian controlled Kashmir, Tuesday, April 22, 2025.(AP Photo/Dar Yasin)\\n\\nIndian security officers patrol in armored vehicles near Pahalgam in south Kashmir after assailants indiscriminately opened fired at tourists in Pahalgam, Indian controlled Kashmir, Tuesday, April 22, 2025. (AP Photo/Dar Yasin)',\n",
       "  'score': 0.7999589},\n",
       " {'title': \"India will pursue Kashmir attackers to 'the ends of the earth ... - BBC\",\n",
       "  'url': 'https://www.bbc.com/news/live/c8x8yqwzznqt',\n",
       "  'content': 'Attacks on tourists in Indian-administered\\nKashmir are rare but not unheard of. The\\nPahalgam attack, however, is the biggest in recent years, with 26\\ntourists killed.\\n\\nThe main target of militants during the decades-long separatist insurgency in the region has been\\nIndian security forces, but civilians, including local populations,\\nhave often been caught up in the attacks. [...] A 47-year-old realtor from Karnataka state, Rao was visiting Pahalgam with his wife and son and was reportedly shot in the head.\\n\\n\"He had called me on Monday night to say the trip was worth it,\" Bhat told BBC Hindi. Hours later, Rao\\'s family and friends are grappling with an unimaginable tragedy.\\n\\nThis was the Rao family\\'s first visit to the region.\\n\\n\"Their son had passed his school leaving exam with 96% and they went there to celebrate.\"',\n",
       "  'score': 0.75421005},\n",
       " {'title': 'Pahalgam attack: How will India respond to the Kashmir killings - BBC',\n",
       "  'url': 'https://www.bbc.com/news/articles/cwynx7kgyqvo',\n",
       "  'content': \"Deadly Kashmir attack risks India military escalation against Pakistan\\n\\nTuesday's bloodshed in Pahalgam - where at least 26 tourists were killed in a hail of gunfire - marks the deadliest militant attack in Indian-administered Kashmir since 2019.\",\n",
       "  'score': 0.7361925},\n",
       " {'title': 'A Perfect Day in a Gentle Meadow Is Shattered by Bloody Carnage',\n",
       "  'url': 'https://www.nytimes.com/2025/04/23/world/asia/kashmir-pahalgam-attack-victims.html',\n",
       "  'content': 'He was among 26 people killed by militants who approached a group of visiting sightseers and then opened fire. Another 17 were injured.\\n\\nThe massacre, which occurred near Pahalgam, a town in the southern part of Indian-administered Kashmir, was one of the worst attacks on Indian civilians in decades.',\n",
       "  'score': 0.7154444}]"
      ]
     },
     "execution_count": 26,
     "metadata": {},
     "output_type": "execute_result"
    }
   ],
   "source": [
    "tavily.invoke(\"what happened in palgham in kashmir recently\")"
   ]
  },
  {
   "cell_type": "code",
   "execution_count": 11,
   "id": "94ed8fca",
   "metadata": {},
   "outputs": [],
   "source": [
    "## Combine all the tools in the list\n",
    "tools = [arxiv, wiki, tavily]"
   ]
  },
  {
   "cell_type": "code",
   "execution_count": 21,
   "id": "058783d5",
   "metadata": {},
   "outputs": [
    {
     "data": {
      "text/plain": [
       "AIMessage(content='\\n<think>\\nOkay, so I need to figure out what \"agentic AI\" means. I remember hearing the term \"agent\" in AI before, like in agent-based models or something. Maybe \"agentic\" is related to that? Let me start by breaking down the term. \"Agentic\" probably comes from \"agent,\" so maybe it\\'s about AI that acts as an agent. But what exactly does that mean?\\n\\nI think agents in AI are systems that can perceive their environment and take actions to achieve goals. So an agentic AI would be an AI that can act independently, right? But I should check the key characteristics. Let me see. Maybe they have autonomy, meaning they can make decisions on their own without human intervention. Then there\\'s goal-directed behavior, so they have objectives they\\'re trying to achieve. Perception is important too—how they sense the environment. Adaptability would mean they can adjust to changes, and maybe social abilities to interact with other agents or humans.\\n\\nWait, the user mentioned that agentic AI is a subset of artificial general intelligence (AGI). AGI is the hypothetical AI that can perform any intellectual task a human can. So agentic AI might be a step towards AGI. But I should be careful not to conflate the two. Agentic AI might have some of those AGI traits but not necessarily the full range.\\n\\nExamples could help. Chatbots like SARA, which can handle customer service without human help, or autonomous vehicles. Maybe something like Sophia the robot, which interacts socially. But I need to be precise here. Are these considered agentic AI? Probably, since they act autonomously towards goals.\\n\\nApplications would include things like customer service, autonomous vehicles, healthcare (like personalized treatment), and maybe even creative fields. Challenges would involve ethical issues, safety, ensuring they follow instructions without unintended consequences, and legal stuff like liability.\\n\\nWait, I should make sure I\\'m not mixing up terms. Is \"agentic\" sometimes written as \"agent-based\"? Maybe that\\'s a different term but related. Also, there\\'s \"autonomous agents\" in AI, which are similar. Maybe agentic AI is a broader term encompassing all these concepts.\\n\\nHmm, maybe the key points are that agentic AI refers to systems with autonomy, goal-oriented behavior, perception, adaptation, and sometimes social interaction. They operate in dynamic environments and can make decisions. But I should structure this in a clear way for the answer.\\n</think>\\n\\n**Agentic AI** refers to artificial intelligence systems designed to operate with **autonomy, goal-directed behavior, and adaptability**, functioning as independent agents within their environments. These systems are capable of perceiving their surroundings, making decisions, and acting to achieve predefined objectives, often without direct human intervention. Here\\'s a structured breakdown:\\n\\n---\\n\\n### **Key Characteristics of Agentic AI**  \\n1. **Autonomy**:  \\n   - Capable of acting independently, without real-time human oversight.  \\n   - Makes decisions based on its own programming and environmental inputs.  \\n\\n2. **Goal-Directed Behavior**:  \\n   - Designed to achieve specific objectives or maximize a reward function (e.g., optimizing a process, completing a task).  \\n\\n3. **Perception**:  \\n   - Uses sensors, data, or inputs from its environment to inform decisions (e.g., cameras for self-driving cars, voice recognition for chatbots).  \\n\\n4. **Adaptability**:  \\n   - Learns and adapts to changing conditions, improving performance over time (e.g., machine learning models refining predictions).  \\n\\n5. **Social Interaction (Optional)**:  \\n   - Some agentic AIs interact with humans or other agents (e.g., conversational chatbots, collaborative robots).  \\n\\n---\\n\\n### **Relationship to AGI (Artificial General Intelligence)**  \\n- Agentic AI is often seen as a precursor to **artificial general intelligence (AGI)**, which would possess broad, human-like cognitive abilities. However, current agentic AI systems are typically **narrowly focused** (e.g., Alexa handling voice commands) rather than achieving true general intelligence.  \\n\\n---\\n\\n### **Examples of Agentic AI**  \\n1. **Autonomous Vehicles**:  \\n   - Self-driving cars (e.g., Tesla Autopilot) navigate roads, avoid obstacles, and follow traffic rules.  \\n\\n2. **Chatbots and Virtual Assistants**:  \\n   - Systems like SARA (Salesforce’s chatbot) or Amazon’s Alexa handle customer service, answer queries, and perform tasks.  \\n\\n3. **Healthcare Systems**:  \\n   - AI-driven tools that monitor patients, adjust treatment plans, or assist in surgeries (e.g., robotic surgery systems).  \\n\\n4. **Robotic Process Automation (RPA)**:  \\n   - Software bots automating repetitive tasks in businesses (e.g., data entry, invoice processing).  \\n\\n5. **Sophia the Robot**:  \\n   - A social robot designed to interact with humans, demonstrating adaptive conversation and physical responses.  \\n\\n---\\n\\n### **Applications**  \\n- **Customer Service**: 24/7 chatbots resolving issues.  \\n- **Manufacturing**: Industrial robots optimizing production lines.  \\n- **Healthcare**: Personalized treatment recommendations.  \\n- **Gaming**: Non-player characters (NPCs) in games that adapt to player actions.  \\n- **Space Exploration**: Autonomous drones or rovers exploring remote environments.  \\n\\n---\\n\\n### **Challenges and Considerations**  \\n1. **Ethical and Safety Risks**:  \\n   - Ensuring agentic AIs act ethically and safely, especially in critical domains like healthcare or transportation.  \\n   - Avoiding unintended consequences (e.g., \"goal corruption,\" where an AI pursues its goals in harmful ways).  \\n\\n2. **Transparency and Explainability**:  \\n   - Understanding how an AI makes decisions (\"black box\" problem).  \\n\\n3. **Legal and Liability Issues**:  \\n   - Assigning responsibility for errors or harm caused by autonomous systems.  \\n\\n4. **Security**:  \\n   - Protecting agentic systems from hacking or manipulation.  \\n\\n---\\n\\n### **Why It Matters**  \\nAgentic AI represents a significant step toward systems that can operate in dynamic, real-world environments, potentially revolutionizing industries by automating complex tasks. However, its development must be guided by robust ethical frameworks and safety protocols to mitigate risks.\\n\\nIf you\\'re interested in deeper exploration, terms like **autonomous agents**, **multi-agent systems**, or **reinforcement learning** (a common method for training goal-oriented AI) might be worth researching further.', additional_kwargs={}, response_metadata={'token_usage': {'completion_tokens': 1331, 'prompt_tokens': 15, 'total_tokens': 1346, 'completion_time': 3.293721002, 'prompt_time': 0.002900906, 'queue_time': 0.12169629800000001, 'total_time': 3.296621908}, 'model_name': 'qwen-qwq-32b', 'system_fingerprint': 'fp_fbb7e6cc39', 'finish_reason': 'stop', 'logprobs': None}, id='run-3006296c-4caa-4bea-a098-aef64f4afce9-0', usage_metadata={'input_tokens': 15, 'output_tokens': 1331, 'total_tokens': 1346})"
      ]
     },
     "execution_count": 21,
     "metadata": {},
     "output_type": "execute_result"
    }
   ],
   "source": [
    "from langchain_groq import ChatGroq\n",
    "\n",
    "llm=ChatGroq(model = \"qwen-qwq-32b\")\n",
    "llm.invoke(\"what is agentic AI\")"
   ]
  },
  {
   "cell_type": "code",
   "execution_count": 22,
   "id": "5fbcc6b7",
   "metadata": {},
   "outputs": [],
   "source": [
    "llm_with_tools = llm.bind_tools(tools=tools)"
   ]
  },
  {
   "cell_type": "code",
   "execution_count": 25,
   "id": "e0f3af3f",
   "metadata": {},
   "outputs": [
    {
     "data": {
      "text/plain": [
       "AIMessage(content='', additional_kwargs={'tool_calls': [{'id': 'call_qa09', 'function': {'arguments': '{\"query\": \"Recent events in Palgham Kashmir\"}', 'name': 'tavily_search_results_json'}, 'type': 'function'}]}, response_metadata={'token_usage': {'completion_tokens': 294, 'prompt_tokens': 358, 'total_tokens': 652, 'completion_time': 0.733961193, 'prompt_time': 0.178508512, 'queue_time': 2.608557213, 'total_time': 0.912469705}, 'model_name': 'qwen-qwq-32b', 'system_fingerprint': 'fp_512a3da6bb', 'finish_reason': 'tool_calls', 'logprobs': None}, id='run-a043e222-6754-4ba5-8a15-1c7a274469de-0', tool_calls=[{'name': 'tavily_search_results_json', 'args': {'query': 'Recent events in Palgham Kashmir'}, 'id': 'call_qa09', 'type': 'tool_call'}], usage_metadata={'input_tokens': 358, 'output_tokens': 294, 'total_tokens': 652})"
      ]
     },
     "execution_count": 25,
     "metadata": {},
     "output_type": "execute_result"
    }
   ],
   "source": [
    "# Execute the call\n",
    "llm_with_tools.invoke(\"What happened in palgham Kashmir recently\")"
   ]
  },
  {
   "cell_type": "code",
   "execution_count": 27,
   "id": "87f99161",
   "metadata": {},
   "outputs": [
    {
     "data": {
      "text/plain": [
       "AIMessage(content='', additional_kwargs={'tool_calls': [{'id': 'call_f6bp', 'function': {'arguments': '{\"query\": \"Machine learning\"}', 'name': 'wikipedia'}, 'type': 'function'}]}, response_metadata={'token_usage': {'completion_tokens': 161, 'prompt_tokens': 354, 'total_tokens': 515, 'completion_time': 0.402639237, 'prompt_time': 0.06077999, 'queue_time': 4.309233003999999, 'total_time': 0.463419227}, 'model_name': 'qwen-qwq-32b', 'system_fingerprint': 'fp_3796682456', 'finish_reason': 'tool_calls', 'logprobs': None}, id='run-6719f023-aa67-46c4-a756-33be25c31008-0', tool_calls=[{'name': 'wikipedia', 'args': {'query': 'Machine learning'}, 'id': 'call_f6bp', 'type': 'tool_call'}], usage_metadata={'input_tokens': 354, 'output_tokens': 161, 'total_tokens': 515})"
      ]
     },
     "execution_count": 27,
     "metadata": {},
     "output_type": "execute_result"
    }
   ],
   "source": [
    "# Execute the call\n",
    "llm_with_tools.invoke(\"What is machine learning\")"
   ]
  },
  {
   "cell_type": "markdown",
   "id": "ee3a1c8c",
   "metadata": {},
   "source": [
    "## Workflow with Langgraph"
   ]
  },
  {
   "cell_type": "code",
   "execution_count": 32,
   "id": "bcd01a8f",
   "metadata": {},
   "outputs": [],
   "source": [
    "## State Schema\n",
    "from typing_extensions import TypedDict \n",
    "from langchain_core.messages import AnyMessage ## Human message or AI message\n",
    "from typing import Annotated # Labelling\n",
    "from langgraph.graph.message import add_messages ## Reducers in Langgraph - This is used to append the messages to the graph"
   ]
  },
  {
   "cell_type": "code",
   "execution_count": 33,
   "id": "7a15b7de",
   "metadata": {},
   "outputs": [],
   "source": [
    "class State(TypedDict):\n",
    "    messages: Annotated[list[AnyMessage], add_messages]\n",
    "       "
   ]
  },
  {
   "cell_type": "code",
   "execution_count": 38,
   "id": "f43ad439",
   "metadata": {},
   "outputs": [],
   "source": [
    "from IPython.display import Image, display\n",
    "from langgraph.graph import StateGraph, START, END\n",
    "from langgraph.prebuilt import ToolNode\n",
    "from langgraph.prebuilt import tools_condition\n"
   ]
  },
  {
   "cell_type": "code",
   "execution_count": 65,
   "id": "53b0fcf0",
   "metadata": {},
   "outputs": [
    {
     "data": {
      "image/png": "[encoded data removed]",
      "text/plain": [
       "<IPython.core.display.Image object>"
      ]
     },
     "metadata": {},
     "output_type": "display_data"
    }
   ],
   "source": [
    "### Node definition\n",
    "\n",
    "def tool_calling_llm(state:State):   \n",
    "    return {\"messages\":[llm_with_tools.invoke(state[\"messages\"])]} # Call the LLM with the tools and return the message\"}\n",
    "\n",
    "### Node definition\n",
    "\n",
    "def tool_calling_llm(state:State):   \n",
    "    return {\"messages\":[llm_with_tools.invoke(state[\"messages\"])]} # Call the LLM with the tools and return the message\"}\n",
    "\n",
    "# Build graph\n",
    "builder = StateGraph(State)\n",
    "builder.add_node(\"tool_calling_llm\", tool_calling_llm)\n",
    "builder.add_node(\"tools\",ToolNode(tools))\n",
    "\n",
    "## Edges\n",
    "builder.add_edge(START, \"tool_calling_llm\")\n",
    "builder.add_conditional_edges(\n",
    "    \"tool_calling_llm\",\n",
    "    # if the latest message (result) from assistant is a a tool call -> tools_condition routes to tools\n",
    "    # if the latest message (result) from assistant is not a tool call -> tools_condition routes to END\n",
    "    tools_condition,\n",
    ")\n",
    "\n",
    "builder.add_edge(\"tools\", END)\n",
    "\n",
    "graph = builder.compile()\n",
    "\n",
    "#View\n",
    "display(Image(graph.get_graph().draw_mermaid_png()))"
   ]
  },
  {
   "cell_type": "code",
   "execution_count": 54,
   "id": "0203d1e1",
   "metadata": {},
   "outputs": [
    {
     "name": "stdout",
     "output_type": "stream",
     "text": [
      "================================\u001b[1m Human Message \u001b[0m=================================\n",
      "\n",
      "Attention is all you need\n",
      "==================================\u001b[1m Ai Message \u001b[0m==================================\n",
      "Tool Calls:\n",
      "  arxiv (call_b9d5)\n",
      " Call ID: call_b9d5\n",
      "  Args:\n",
      "    query: Attention is all you need\n",
      "=================================\u001b[1m Tool Message \u001b[0m=================================\n",
      "Name: arxiv\n",
      "\n",
      "Published: 2024-07-22\n",
      "Title: Attention Is All You Need But You Don't Need All Of It For Inference of Large Language Models\n",
      "Authors: Georgy Tyukin, Gbetondji J-S Dovonon, Jean Kaddour, Pasquale Minervini\n",
      "Summary: The inference demand for LLMs has skyrocketed in recent months, and serving\n",
      "models with low latencies remains challenging due to the quadratic input length\n",
      "complexity of the attention layers. In this work, we investigate the effect of\n",
      "dropping MLP and attention layers at inference time o\n"
     ]
    }
   ],
   "source": [
    "messages = graph.invoke({\"messages\":\"Attention is all you need\"})\n",
    "for m in messages['messages']:\n",
    "    m.pretty_print()"
   ]
  },
  {
   "cell_type": "code",
   "execution_count": 59,
   "id": "f2756b7a",
   "metadata": {},
   "outputs": [
    {
     "data": {
      "image/png": "[encoded data removed]",
      "text/plain": [
       "<IPython.core.display.Image object>"
      ]
     },
     "metadata": {},
     "output_type": "display_data"
    }
   ],
   "source": [
    "### Node definition\n",
    "\n",
    "def tool_calling_llm(state:State):   \n",
    "    return {\"messages\":[llm_with_tools.invoke(state[\"messages\"])]} # Call the LLM with the tools and return the message\"}\n",
    "\n",
    "builder = StateGraph(State)\n",
    "\n",
    "builder.add_node(\"tool_calling_llm\", tool_calling_llm)\n",
    "builder.add_node(\"tools\", ToolNode(tools))\n",
    "\n",
    "builder.add_edge(START, \"tool_calling_llm\")\n",
    "\n",
    "# Conditional routing: tool_calling_llm → tools or → end\n",
    "builder.add_conditional_edges(\n",
    "    \"tool_calling_llm\",\n",
    "    tools_condition  # This decides based on whether tools are needed\n",
    ")\n",
    "\n",
    "# After tools are used, go back to the tool_calling_llm for another round\n",
    "builder.add_edge(\"tools\", \"tool_calling_llm\")\n",
    "\n",
    "# Add an end condition directly from tool_calling_llm (if no tools needed)\n",
    "builder.add_edge(\"tool_calling_llm\", END)\n",
    "\n",
    "\n",
    "graph = builder.compile()\n",
    "\n",
    "#View\n",
    "display(Image(graph.get_graph().draw_mermaid_png()))"
   ]
  },
  {
   "cell_type": "code",
   "execution_count": 63,
   "id": "526937c3",
   "metadata": {},
   "outputs": [
    {
     "name": "stdout",
     "output_type": "stream",
     "text": [
      "================================\u001b[1m Human Message \u001b[0m=================================\n",
      "\n",
      "what is the recent AI News and tell me recent research paper on quantum computing\n",
      "==================================\u001b[1m Ai Message \u001b[0m==================================\n",
      "Tool Calls:\n",
      "  tavily_search_results_json (call_jhcp)\n",
      " Call ID: call_jhcp\n",
      "  Args:\n",
      "    query: recent AI news\n",
      "  arxiv (call_vnbk)\n",
      " Call ID: call_vnbk\n",
      "  Args:\n",
      "    query: recent quantum computing\n",
      "=================================\u001b[1m Tool Message \u001b[0m=================================\n",
      "Name: tavily_search_results_json\n",
      "\n",
      "[{\"title\": \"Artificial Intelligence - Latest AI News and Analysis - WSJ.com\", \"url\": \"https://www.wsj.com/tech/ai\", \"content\": \"The latest artificial intelligence news coverage focusing on the technology, tools and the companies building AI technology.\", \"score\": 0.71425}, {\"title\": \"Artificial intelligence - NBC News\", \"url\": \"https://www.nbcnews.com/artificial-intelligence\", \"content\": \"Chinese A.I. app shakes up Silicon Valley, causing Wall Street selloff\\n\\nNightly News\\n\\nMORE AI NEWS\\n\\nElon Musk's AI startup acquires X in deal that values social media platform at $33 billion\\n\\nKicked out of Columbia, this student doesn't plan to stop trolling big tech with AI\\n\\nAI-generated Studio Ghibli memes are so popular they’re ‘melting’ ChatGPT\\n\\nTrump administration launching an AI tool for government use\\n\\nAI is turbocharging organized crime, E.U. police agency warns [...] A.I. chatbots becoming popular but worry privacy advocates\\n\\nNightly News\\n\\n03:15\\n\\nChristie's begins AI art auction amid backlash\\n\\nNBC News NOW\\n\\n02:16\\n\\nVance says U.S. will be the ‘gold standard’ of AI technology\\n\\n03:36\\n\\nAI startup DeepSeek causes buzz in China but draws global scrutiny over censorship and security\\n\\nNBC News NOW\\n\\n02:03\\n\\nA.I. leaders say China may have copied U.S. technology\\n\\nNightly News\\n\\n08:23\\n\\nNew Chinese A.I. tool 'DeepSeek' competes with American models\\n\\nNBC News NOW\\n\\n01:09 [...] Profile\\n\\nSections\\n\\nLocal\\n\\ntv\\n\\nFeatured\\n\\nMore From NBC\\n\\nFollow NBC News\\n\\nnews Alerts\\n\\nThere are no new alerts at this time\\n\\nARTIFICIAL INTELLIGENCE\\n\\nThe latest news and top stories on artificial intelligence, including ChatGPT, AI Chatbot and Bard.\\n\\nChina's robots race against humans — and their U.S. counterparts\\n\\nViral AI-made art trends are making artists even more worried about their futures\\n\\nAI NEWS\\n\\nArtificial intelligence\", \"score\": 0.7014069}, {\"title\": \"artificial intelligence news - Technology - The Indian Express\", \"url\": \"https://indianexpress.com/section/technology/artificial-intelligence/\", \"content\": \"Launched in 2023, Chatbot Arena allows users to compare AI models and vote on their performance via leaderboards.\\n\\nMicrosoft Research announces ‘1-bit,’ a small language model that can run on CPU\\n\\nTrained on 4 trillion tokens, this open-source model rivals full-precision LLMs in performance while offering impressive efficiency in memory, energy, and latency.\\n\\nFormer Meta India head Kirthiga Reddy announces AI Kiran to empower Indian women in AI [...] Microsoft’s 2025 Work Trend Index shows how the workplace is being redefined by intelligent tools that can plan, act, and learn.\\n\\nAdobe debuts all-in-one Firefly AI app with access to models by OpenAI, Google Cloud\\n\\nAdobe is also rolling out a new beta feature that helps users mood board, ideate, and explore concepts with the help of AI.\\n\\nGoogle’s Gemini AI grows rapidly to 350M global users, but still trails ChatGPT and Meta AI [...] 3 tips to save you from job scams: Microsoft report sheds light on AI-assisted frauds\\n\\nWith rapid advancement of AI, scammers are coming up with newer ways to target users. Microsoft’s Cyber Signals report shows ways to safeguard yourself from job and e-commerce scams.\\n\\nChina’s Kling 2.0 stuns with Hollywood-level visuals: 7 compelling videos to watch\\n\\nChinese AI startup Kling AI recently launched Kling 2.0, and X is now brimming with video outputs that could put Hollywood to shame.\", \"score\": 0.68496037}, {\"title\": \"Artificial intelligence | Massachusetts Institute of Technology\", \"url\": \"https://news.mit.edu/topic/artificial-intelligence2\", \"content\": \"Read full story →\\n\\nTraining LLMs to self-detoxify their language\\n\\nA new method from the MIT-IBM Watson AI Lab helps large language models to steer their own responses toward safer, more ethical, value-aligned outputs.\\n\\nApril 14, 2025\\n\\nRead full story →\\n\\nNew method efficiently safeguards sensitive AI training data\\n\\nThe approach maintains an AI model’s accuracy while ensuring attackers can’t extract secret information.\\n\\nApril 11, 2025\\n\\nRead full story → [...] Read full story →\\n\\nMaking AI-generated code more accurate in any language\\n\\nA new technique automatically guides an LLM toward outputs that adhere to the rules of whatever programming language or other format is being used.\\n\\nApril 18, 2025\\n\\nRead full story →\\n\\nA faster way to solve complex planning problems\\n\\nBy eliminating redundant computations, a new data-driven method can streamline processes like scheduling trains, routing delivery drivers, or assigning airline crews.\\n\\nApril 16, 2025 [...] Norma Kamali is transforming the future of fashion with AI\\n\\nThe renowned designer embraces generative AI to preserve and propel her legacy.\\n\\nApril 22, 2025\\n\\nRead full story →\\n\\nMIT’s McGovern Institute is shaping brain science and improving human lives on a global scale\\n\\nA quarter century after its founding, the McGovern Institute reflects on its discoveries in the areas of neuroscience, neurotechnology, artificial intelligence, brain-body connections, and therapeutics.\\n\\nApril 18, 2025\", \"score\": 0.67758125}, {\"title\": \"AI News & Artificial Intelligence | TechCrunch\", \"url\": \"https://techcrunch.com/category/artificial-intelligence/\", \"content\": \"Speak at TechCrunch Disrupt 2025: Applications now open\\n\\nDropbox adds new features to Dash, its AI-powered search tool\\n\\nThis tool estimates how much electricity your chatbot messages consume\\n\\nAdobe wants to create a robots.txt-styled indicator for images used in AI training\\n\\nAdobe releases new Firefly image generation models and a redesigned Firefly web app\\n\\nWindsurf slashes prices as competition with Cursor heats up\\n\\nOpenAI seeks to make its upcoming ‘open’ AI model best-in-class [...] AI note-taking app Fireflies adds new ways to extract insights from meeting notes\\n\\nEndor Labs, which builds tools to scan AI-generated code for vulnerabilities, lands $93M\\n\\nTech resilience, breakout startups, and banking reinvented: The big conversations at StrictlyVC London in May\\n\\nNoxtua raises $92M for its sovereign AI tuned for the German legal system\\n\\nxAI’s Grok chatbot can now ‘see’ the world around it\\n\\nWhy OpenAI wanted to buy Cursor but opted for the fast-growing Windsurf [...] Topics\\n\\nLatest\\n\\nAI\\n\\nAmazon\\n\\nApps\\n\\nBiotech & Health\\n\\nClimate\\n\\nCloud Computing\\n\\nCommerce\\n\\nCrypto\\n\\nEnterprise\\n\\nEVs\\n\\nFintech\\n\\nFundraising\\n\\nGadgets\\n\\nGaming\\n\\nGoogle\\n\\nGovernment & Policy\\n\\nHardware\\n\\nInstagram\\n\\nLayoffs\\n\\nMedia & Entertainment\\n\\nMeta\\n\\nMicrosoft\\n\\nPrivacy\\n\\nRobotics\\n\\nSecurity\\n\\nSocial\\n\\nSpace\\n\\nStartups\\n\\nTikTok\\n\\nTransportation\\n\\nVenture\\n\\nMore from TechCrunch\\n\\nEvents\\n\\nStartup Battlefield\\n\\nStrictlyVC\\n\\nNewsletters\\n\\nPodcasts\\n\\nVideos\\n\\nPartner Content\\n\\nTechCrunch Brand Studio\\n\\nCrunchboard\\n\\nContact Us\", \"score\": 0.6664756}]\n",
      "=================================\u001b[1m Tool Message \u001b[0m=================================\n",
      "Name: arxiv\n",
      "\n",
      "Published: 2003-05-05\n",
      "Title: Quantum computer: an appliance for playing market games\n",
      "Authors: Edward W. Piotrowski, Jan Sladkowski\n",
      "Summary: Recent development in quantum computation and quantum information theory\n",
      "allows to extend the scope of game theory for the quantum world. The authors\n",
      "have recently proposed a quantum description of financial market in terms of\n",
      "quantum game theory. The paper contain an analysis of such markets that shows\n",
      "that there would be advantage in using quantum computer\n",
      "==================================\u001b[1m Ai Message \u001b[0m==================================\n",
      "\n",
      "Here's the information based on the tool responses:\n",
      "\n",
      "**Recent AI News Highlights (as of the latest tool data):**\n",
      "1. **Global AI Competition**: China's DeepSeek AI app is gaining traction, sparking concern over censorship and security, while U.S. models face scrutiny. (NBC News)\n",
      "2. **Corporate Moves**: \n",
      "   - Microsoft announced memory-efficient AI models and research on ethical AI alignment.\n",
      "   - Adobe launched Firefly, integrating OpenAI and Google's models for creative tools.\n",
      "   - Elon Musk's X was acquired by DeepSeek, highlighting AI's disruptive impact.\n",
      "3. **Advances in LLMs**: MIT developed techniques to improve AI-generated code accuracy and ethical alignment for LLMs.\n",
      "4. **Policy & Security**: The EU warned about AI's role in organized crime, while Microsoft and MIT introduced data security measures for AI training.\n",
      "\n",
      "**Quantum Computing Research Note:**\n",
      "The ArXiv tool returned a 2003 paper titled *Quantum computer: an appliance for playing market games*, which explores quantum game theory in financial markets. However, this appears outdated. Recent quantum computing research might require a more specific query (e.g., \"quantum error correction 2023\") or checking other databases like [arXiv.org](https://arxiv.org) directly. Would you like me to refine the search further?\n",
      "\n",
      "Let me know if you'd like deeper insights or updates on any specific aspect!\n"
     ]
    }
   ],
   "source": [
    "messages = graph.invoke({\"messages\":\"what is the recent AI News and tell me recent research paper on quantum computing\"})\n",
    "for m in messages['messages']:\n",
    "    m.pretty_print()"
   ]
  }
 ],
 "metadata": {
  "kernelspec": {
   "display_name": "Python 3",
   "language": "python",
   "name": "python3"
  },
  "language_info": {
   "codemirror_mode": {
    "name": "ipython",
    "version": 3
   },
   "file_extension": ".py",
   "mimetype": "text/x-python",
   "name": "python",
   "nbconvert_exporter": "python",
   "pygments_lexer": "ipython3",
   "version": "3.13.2"
  }
 },
 "nbformat": 4,
 "nbformat_minor": 5
}
